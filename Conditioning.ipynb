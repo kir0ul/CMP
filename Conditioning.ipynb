{
 "cells": [
  {
   "cell_type": "markdown",
   "id": "37922932-8153-41e6-93e8-46bb237039cf",
   "metadata": {},
   "source": [
    "# Conditioning"
   ]
  },
  {
   "cell_type": "code",
   "execution_count": 1,
   "id": "a15ec569-99de-4a73-b1ad-dfb5b71ffabe",
   "metadata": {},
   "outputs": [
    {
     "name": "stdout",
     "output_type": "stream",
     "text": [
      "means\n",
      "[ 1.01277839  4.52863965  1.98990172 -1.17391554]\n",
      "\n",
      "mins\n",
      "[-2.31079823 -8.33142158 -1.80414214 -8.74552729]\n",
      "\n",
      "maxs\n",
      "[ 3.92919388 17.57679341  4.82528779  9.27678294]\n",
      "\n",
      "cov\n",
      "[[ 9.63461496e-01  3.36840170e+00 -1.12846545e-02 -5.12464592e-02]\n",
      " [ 3.36840170e+00  1.27550651e+01 -9.26050108e-02 -8.56265759e-02]\n",
      " [-1.12846545e-02 -9.26050108e-02  9.70507183e-01 -2.46328945e+00]\n",
      " [-5.12464592e-02 -8.56265759e-02 -2.46328945e+00  7.25484316e+00]]\n",
      "\n",
      "stddev\n",
      "[0.98156075 3.5714234  0.98514323 2.69348161]\n",
      "\n",
      "correlation matrix\n",
      "[[ 1.          0.9608716  -0.01167002 -0.01938352]\n",
      " [ 0.9608716   1.         -0.02632048 -0.0089013 ]\n",
      " [-0.01167002 -0.02632048  1.         -0.9283293 ]\n",
      " [-0.01938352 -0.0089013  -0.9283293   1.        ]]\n"
     ]
    }
   ],
   "source": [
    "import numpy as np\n",
    "\n",
    "np.random.seed(37)\n",
    "\n",
    "N = 1000\n",
    "\n",
    "x1 = np.random.normal(1, 1, N)\n",
    "x2 = np.random.normal(1 + 3.5 * x1, 1, N)\n",
    "x3 = np.random.normal(2, 1, N)\n",
    "x4 = np.random.normal(3.8 - 2.5 * x3, 1, N)\n",
    "\n",
    "data = np.vstack([x1, x2, x3, x4]).T\n",
    "means = data.mean(axis=0)\n",
    "mins = data.min(axis=0)\n",
    "maxs = data.max(axis=0)\n",
    "cov = np.cov(data.T)\n",
    "std = np.sqrt(np.diag(cov))\n",
    "cor = np.corrcoef(data.T)\n",
    "\n",
    "print('means')\n",
    "print(means)\n",
    "print('')\n",
    "print('mins')\n",
    "print(mins)\n",
    "print('')\n",
    "print('maxs')\n",
    "print(maxs)\n",
    "print('')\n",
    "print('cov')\n",
    "print(cov)\n",
    "print('')\n",
    "print('stddev')\n",
    "print(std)\n",
    "print('')\n",
    "print('correlation matrix')\n",
    "print(cor)"
   ]
  },
  {
   "cell_type": "code",
   "execution_count": 2,
   "id": "945130fc-a029-4f3e-870b-e9e073abfa60",
   "metadata": {},
   "outputs": [],
   "source": [
    "from scipy.stats import norm\n",
    "\n",
    "def get_index_2(index_1, N):\n",
    "    return [i for i in range(N) if i not in index_1]\n",
    "\n",
    "def partition_means(index_1, means, index_2=None):\n",
    "    index_2 = get_index_2(index_1, len(means)) if index_2 is None else index_2\n",
    "    m_1, m_2 = means[index_1], means[index_2]\n",
    "    return m_1, m_2\n",
    "\n",
    "def partition_cov(index_1, cov, index_2=None):\n",
    "    index_2 = get_index_2(index_1, cov.shape[1]) if index_2 is None else index_2\n",
    "    s_11 = cov[index_1][:, index_1]\n",
    "    s_12 = cov[index_1][:, index_2]\n",
    "    s_21 = cov[index_2][:, index_1]\n",
    "    s_22 = cov[index_2][:, index_2]\n",
    "\n",
    "    return s_11, s_12, s_21, np.linalg.inv(s_22)\n",
    "\n",
    "def partition_x(index_1, x, index_2=None):\n",
    "    index_2 = get_index_2(index_1, len(x)) if index_2 is None else index_2\n",
    "    x_1 = x[index_1]\n",
    "    x_2 = x[index_2]\n",
    "    return x_1, x_2\n",
    "\n",
    "def get_log_proba(index_1, data, means, cov, index_2=None, zero=0.000001):\n",
    "    m_1, m_2 = partition_means(index_1, means, index_2)\n",
    "    s_11, s_12, s_21, s_22 = partition_cov(index_1, cov, index_2)\n",
    "    s = (s_11 - s_12.dot(s_22).dot(s_21))[0, 0]\n",
    "\n",
    "    log_proba = []\n",
    "    for x in data:\n",
    "        x_1, x_2 = partition_x(index_1, x, index_2)\n",
    "        m = (m_1 + s_12.dot(s_22).dot((x_2 - m_2).T))[0]\n",
    "        p = norm.pdf(x_1, loc=m, scale=s)\n",
    "        log_p = np.log(p) if p >= zero else 0.0\n",
    "        log_proba.append(log_p)\n",
    "\n",
    "    return sum(log_proba)[0], s_12.dot(s_22)[0]"
   ]
  },
  {
   "cell_type": "code",
   "execution_count": 3,
   "id": "4714c784-4381-431f-9c23-cd9280c8f38b",
   "metadata": {},
   "outputs": [
    {
     "data": {
      "text/plain": [
       "(np.float64(-1407.750404872483), array([3.49614563]))"
      ]
     },
     "execution_count": 3,
     "metadata": {},
     "output_type": "execute_result"
    }
   ],
   "source": [
    "get_log_proba([1], data, means, cov, [0])"
   ]
  },
  {
   "cell_type": "code",
   "execution_count": 4,
   "id": "e3360737-74dd-43cd-a827-db912a0068ed",
   "metadata": {},
   "outputs": [
    {
     "data": {
      "text/plain": [
       "(np.float64(-1844.815851724649), array([0.26408346]))"
      ]
     },
     "execution_count": 4,
     "metadata": {},
     "output_type": "execute_result"
    }
   ],
   "source": [
    "get_log_proba([0], data, means, cov, [1])"
   ]
  },
  {
   "cell_type": "code",
   "execution_count": 5,
   "id": "e51150f5-9f2a-4e5d-97ed-feb71bb0ead8",
   "metadata": {},
   "outputs": [
    {
     "data": {
      "text/plain": [
       "(np.float64(-3503.362042145973), array([-0.09541919]))"
      ]
     },
     "execution_count": 5,
     "metadata": {},
     "output_type": "execute_result"
    }
   ],
   "source": [
    "get_log_proba([1], data, means, cov, [2])"
   ]
  },
  {
   "cell_type": "code",
   "execution_count": 6,
   "id": "39d7409b-4d91-4fa2-8837-2fdc21848bb6",
   "metadata": {},
   "outputs": [
    {
     "data": {
      "text/plain": [
       "(np.float64(-3503.9517684404823), array([-0.01180268]))"
      ]
     },
     "execution_count": 6,
     "metadata": {},
     "output_type": "execute_result"
    }
   ],
   "source": [
    "get_log_proba([1], data, means, cov, [3])"
   ]
  },
  {
   "cell_type": "code",
   "execution_count": 7,
   "id": "821b7701-7729-44b0-aba3-463fc9eafcdb",
   "metadata": {},
   "outputs": [
    {
     "data": {
      "text/plain": [
       "(np.float64(-1406.2939707884577), array([ 3.49550407, -0.05477492]))"
      ]
     },
     "execution_count": 7,
     "metadata": {},
     "output_type": "execute_result"
    }
   ],
   "source": [
    "get_log_proba([1], data, means, cov, [0, 2])"
   ]
  },
  {
   "cell_type": "code",
   "execution_count": 8,
   "id": "b0d96870-846e-40cd-8294-de37c5ffd069",
   "metadata": {},
   "outputs": [
    {
     "data": {
      "text/plain": [
       "(np.float64(-1407.1468441245959), array([3.49683168, 0.0128981 ]))"
      ]
     },
     "execution_count": 8,
     "metadata": {},
     "output_type": "execute_result"
    }
   ],
   "source": [
    "get_log_proba([1], data, means, cov, [0, 3])"
   ]
  },
  {
   "cell_type": "code",
   "execution_count": 9,
   "id": "ec040df9-4ba9-4493-98e3-3bc3783d054d",
   "metadata": {},
   "outputs": [
    {
     "data": {
      "text/plain": [
       "(np.float64(-3495.601209966525), array([-0.90717683, -0.319823  ]))"
      ]
     },
     "execution_count": 9,
     "metadata": {},
     "output_type": "execute_result"
    }
   ],
   "source": [
    "get_log_proba([1], data, means, cov, [2, 3])"
   ]
  },
  {
   "cell_type": "code",
   "execution_count": 10,
   "id": "d2b569e6-4819-409a-bf8b-292f9ff4f147",
   "metadata": {},
   "outputs": [
    {
     "data": {
      "text/plain": [
       "(np.float64(-1405.432372899473),\n",
       " array([ 3.49205536, -0.16036643, -0.04158602]))"
      ]
     },
     "execution_count": 10,
     "metadata": {},
     "output_type": "execute_result"
    }
   ],
   "source": [
    "get_log_proba([1], data, means, cov, [0, 2, 3])"
   ]
  },
  {
   "cell_type": "code",
   "execution_count": null,
   "id": "b9a168b6-d05f-4459-8b56-f576e76ff838",
   "metadata": {},
   "outputs": [],
   "source": []
  }
 ],
 "metadata": {
  "kernelspec": {
   "display_name": "Python 3 (ipykernel)",
   "language": "python",
   "name": "python3"
  },
  "language_info": {
   "codemirror_mode": {
    "name": "ipython",
    "version": 3
   },
   "file_extension": ".py",
   "mimetype": "text/x-python",
   "name": "python",
   "nbconvert_exporter": "python",
   "pygments_lexer": "ipython3",
   "version": "3.13.3"
  }
 },
 "nbformat": 4,
 "nbformat_minor": 5
}
